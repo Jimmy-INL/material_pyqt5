{
 "cells": [
  {
   "cell_type": "markdown",
   "metadata": {},
   "source": [
    "#Movimientos y señales del mouse\n",
    "* Dentro de una interfaz tal vez podríamos necesitar utilizar la posición del mouse o realizar cierta acción al momento de hacer un click ~~como dispararle a alienígenas intergaláxicos~~. Para nuestro beneficio, PyQt5 tiene integradas varias funcionalidades para poder utilizar y manejar esta información."
   ]
  },
  {
   "cell_type": "markdown",
   "metadata": {},
   "source": [
    "##Movimiento\n",
    "\n",
    "* En el siguiente ejemplo, vamos a ver la posición global del mouse mediante el evento _mouseMoveEvent_. Para esto, vamos a activar el _tracking_ del mouse en el Widget y label que queramos seguir. Como en el ejemplo solo lo activamos en el label azul y la ventana en grande, el label verde no mostrará la posición del mouse. Esto último es un error muy común, dado que usualmente se olvida el orden de los labels y alguno podría estar por encima y arruinando nuestro tracking."
   ]
  },
  {
   "cell_type": "code",
   "execution_count": null,
   "metadata": {
    "collapsed": true
   },
   "outputs": [],
   "source": [
    "import sys\n",
    "from PyQt5.QtWidgets import (QApplication, QWidget, QPushButton, QLabel)\n",
    "from PyQt5.QtGui import QPixmap\n",
    "from PyQt5.QtCore import QRect\n",
    "\n",
    "\n",
    "class MiVentana(QWidget):\n",
    "    def __init__(self, *args, **kwargs):\n",
    "        super().__init__(*args, **kwargs)\n",
    "        self.init_GUI()\n",
    "\n",
    "    def init_GUI(self):\n",
    "        self.setGeometry(300, 100, 225, 450)\n",
    "        self.setMaximumHeight(450)\n",
    "        self.setMaximumWidth(225)\n",
    "        self.setWindowTitle('Tracking')\n",
    "        self.label1 = QLabel('AZUL', self) # Creamos el label\n",
    "        self.label1.move(0, 0)\n",
    "        self.label1.setGeometry(QRect(0, 0, 225, 225))  # (x, y, height, width)\n",
    "        self.label2 = QLabel('VERDE', self)\n",
    "        self.label2.move(0, 0)\n",
    "        self.label2.setGeometry(QRect(0, 225, 225, 225))\n",
    "        self.pixmap_azul = QPixmap('images/colors/azul.png') # Creamos el pixmap\n",
    "        self.pixmap_verde = QPixmap('images/colors/verde.png')\n",
    "        self.label1.setPixmap(self.pixmap_azul) # Asignamos el pixmap\n",
    "        self.label2.setPixmap(self.pixmap_verde)\n",
    "        self.setMouseTracking(True) # Activamos el tracking en nuestra ventana y nuestra label azul\n",
    "        self.label1.setMouseTracking(True)\n",
    "        self.label1.show()\n",
    "        self.label2.show()\n",
    "        self.show()\n",
    "\n",
    "    def mouseMoveEvent(self, event):\n",
    "        print(event.pos()) \n",
    "\n",
    "\n",
    "if __name__ == '__main__':\n",
    "    app = QApplication([])\n",
    "    form = MiVentana()\n",
    "    sys.exit(app.exec_())\n"
   ]
  },
  {
   "cell_type": "markdown",
   "metadata": {},
   "source": [
    "##Press Event\n",
    "\n",
    "* En este ejemplo vamos a ocupar el evento _mousePressEvent_, el cual se activa al presionar un click. "
   ]
  },
  {
   "cell_type": "code",
   "execution_count": null,
   "metadata": {
    "collapsed": true
   },
   "outputs": [],
   "source": [
    "import sys\n",
    "from PyQt5.QtWidgets import (QApplication, QWidget, QPushButton, QLabel)\n",
    "from PyQt5.QtGui import QPixmap\n",
    "from PyQt5.QtCore import QRect\n",
    "\n",
    "\n",
    "class MiVentana(QWidget):\n",
    "    def __init__(self, *args, **kwargs):\n",
    "        super().__init__(*args, **kwargs)\n",
    "        self.init_GUI()\n",
    "\n",
    "    def init_GUI(self):\n",
    "        self.setGeometry(300, 100, 225, 450)\n",
    "        self.setMaximumHeight(450)\n",
    "        self.setMaximumWidth(225)\n",
    "        self.setWindowTitle('Move Event')\n",
    "        self.azul_h = True\n",
    "        self.verde_h = True\n",
    "        self.label1 = QLabel('AZUL', self)\n",
    "        self.label1.move(0, 0)\n",
    "        self.label1.setGeometry(QRect(0, 0, 225, 225))  # (x, y, height, width)\n",
    "        self.label2 = QLabel('VERDE', self)\n",
    "        self.label2.move(0, 0)\n",
    "        self.label2.setGeometry(QRect(0, 225, 225, 225))\n",
    "        self.pixmap_azul = QPixmap('images/colors/azul.png')\n",
    "        self.pixmap_verde = QPixmap('images/colors/verde.png')\n",
    "        self.label1.setPixmap(self.pixmap_azul)\n",
    "        self.label2.setPixmap(self.pixmap_verde)\n",
    "        self.label1.show()\n",
    "        self.label2.show()\n",
    "        self.show()\n",
    "\n",
    "    def mousePressEvent(self, event):\n",
    "        if event.y() <= 225:\n",
    "            if self.azul_h:\n",
    "                self.label1.hide()\n",
    "                self.azul_h = False\n",
    "            else:\n",
    "                self.label1.show()\n",
    "                self.azul_h = True\n",
    "        else:\n",
    "            if self.verde_h:\n",
    "                self.label2.hide()\n",
    "                self.verde_h = False\n",
    "            else:\n",
    "                self.label2.show()\n",
    "                self.verde_h = True\n",
    "\n",
    "\n",
    "if __name__ == '__main__':\n",
    "    app = QApplication([])\n",
    "    form = MiVentana()\n",
    "    sys.exit(app.exec_())\n"
   ]
  }
 ],
 "metadata": {
  "kernelspec": {
   "display_name": "Python 3",
   "language": "python",
   "name": "python3"
  },
  "language_info": {
   "codemirror_mode": {
    "name": "ipython",
    "version": 3
   },
   "file_extension": ".py",
   "mimetype": "text/x-python",
   "name": "python",
   "nbconvert_exporter": "python",
   "pygments_lexer": "ipython3",
   "version": "3.6.1"
  }
 },
 "nbformat": 4,
 "nbformat_minor": 2
}
